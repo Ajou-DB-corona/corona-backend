{
 "cells": [
  {
   "cell_type": "code",
   "execution_count": 3,
   "metadata": {},
   "outputs": [],
   "source": [
    "import pandas as pd"
   ]
  },
  {
   "cell_type": "code",
   "execution_count": 32,
   "metadata": {},
   "outputs": [],
   "source": [
    "sumokwon = pd.read_csv('sumokwon.csv',encoding='utf-8',names=['집계년도','시군명','명칭','전화번호','등록승인년도','수목원구분명','대표자명','수목원규모(ha)','보유종수','수목원소재지우편번호','수목원소재지지번주소','소재주소','위도','경도','카테고리'\n",
    "                                                             ],engine='python')\n",
    "sumokwon['카테고리']='수목원'\n",
    "sumokwon=sumokwon.drop(0,axis=0)\n",
    "\n",
    "natural = pd.read_csv('natural.csv',encoding='utf-8',names=['시군명','명칭','소재주소','전화번호','데이터기준일자','위도','경도','카테고리'],engine='python')\n",
    "natural['카테고리']= '자연'\n",
    "natural=natural.drop(0,axis=0)\n",
    "\n",
    "meongso = pd.read_csv('meongso.csv',encoding='utf-8',names=['시군명','명칭','소재주소','전화번호','데이터기준일자','위도','경도','카테고리'],engine='python')\n",
    "meongso['카테고리'] = '명소'\n",
    "meongso = meongso.drop(0,axis=0)\n",
    "\n",
    "munhwa = pd.read_csv('munhwa.csv',encoding='utf-8',names=['시군명','명칭','소재주소','전화번호','데이터기준일자','위도','경도','카테고리'],engine='python')\n",
    "munhwa['카테고리'] = '문화'\n",
    "munhwa = munhwa.drop(0,axis=0)\n",
    "\n",
    "experience = pd.read_csv('experience.csv',encoding='utf-8',names=['시군명','명칭','소재주소','전화번호','데이터기준일자','위도','경도','카테고리'],engine='python')\n",
    "experience['카테고리'] = '체험'\n",
    "experience = experience.drop(0,axis=0)\n",
    "\n",
    "thema = pd.read_csv('thema.csv',encoding='utf-8',names=['시군명','명칭','소재주소','전화번호','데이터기준일자','위도','경도','카테고리'],engine='python')\n",
    "thema['카테고리'] = '테마'\n",
    "thema = thema.drop(0,axis=0)\n",
    "\n",
    "sports = pd.read_csv('sports.csv',encoding='utf-8',names=['시군명','명칭','소재주소','전화번호','데이터기준일자','위도','경도','카테고리'],engine='python')\n",
    "sports['카테고리'] = '스포츠'\n",
    "sports = sports.drop(0,axis=0)\n",
    "\n",
    "#forest = pd.read_csv('forest.csv',encoding='utf-8',names=['휴양림명','시군명','휴양림구분','휴양림면적','수용인원수','입장료','숙박가능여부','주요시설명','소재주소',\t관리기관명\t휴양림전화번호\t홈페이지주소\t위도\t경도\t데이터기준일자engine='python')\n",
    "eat = pd.read_csv('eat.csv',encoding='utf-8',names= ['시군명','명칭','전화번호','대표음식명','소재지우편번호','소재주소','소재지지번주소','위도','경도'],engine='python')\n",
    "eat['카테고리'] = '맛집'\n",
    "eat = eat.drop(0,axis=0)\n",
    "#special = pd.read_csv('specialization.csv',encoding='utf-8',engine='python')\n",
    "#tour = pd.read_csv('tour.csv',encoding='utf-8',engine='python')\n"
   ]
  },
  {
   "cell_type": "code",
   "execution_count": 34,
   "metadata": {},
   "outputs": [
    {
     "name": "stdout",
     "output_type": "stream",
     "text": [
      "      시군명         명칭           전화번호                      소재주소       위도  \\\n",
      "0     경기도    바다향기수목원  031-8008-6972     경기도 안산시 단원구 대부황금로 399  37.2236   \n",
      "1     가평군  아침고요원예수목원  031-1544-6703       경기도 가평군 상면 수목원로 432  37.7439   \n",
      "2     경기도     물향기수목원   031-378-1261           경기도 오산시 청학로 211  37.1661   \n",
      "3     과천시   서울대공원식물원    02-500-7338        경기도 과천시 대공원광장로 102   37.426   \n",
      "4     광주시     곤지암화담숲  031-8026-6666      경기도 광주시 도척면 도척윗로 278  37.3402   \n",
      "...   ...        ...            ...                       ...      ...   \n",
      "2084  하남시        한채당   031-792-8880           경기도 하남시 미사동로 38  37.5707   \n",
      "2085  하남시  지호 한방 삼계탕   031-795-9996          경기도 하남시 하남대로 995  37.5475   \n",
      "2086  하남시  하남미소 명품한우   031-699-0002            경기도 하남시 대청로 27  37.5409   \n",
      "2087  화성시   홍천덤바우록계탕   031-366-7880  경기도 화성시 남양읍 역골중앙로41번길 42  37.2063   \n",
      "2088  화성시        소담뜰  031-8059-7667        경기도 화성시 향남읍 배터길 14  37.1328   \n",
      "\n",
      "              경도 카테고리  \n",
      "0     126.642765  수목원  \n",
      "1     127.352457  수목원  \n",
      "2     127.059638  수목원  \n",
      "3     127.023549  수목원  \n",
      "4     127.291693  수목원  \n",
      "...          ...  ...  \n",
      "2084  127.201505   맛집  \n",
      "2085  127.188532   맛집  \n",
      "2086  127.215140   맛집  \n",
      "2087  126.827770   맛집  \n",
      "2088  126.906436   맛집  \n",
      "\n",
      "[2089 rows x 7 columns]\n"
     ]
    }
   ],
   "source": [
    "result = pd.concat([sumokwon,natural,meongso,munhwa,experience,thema,sports,eat], axis = 0, ignore_index=True,join='inner')\n",
    "print(result)"
   ]
  },
  {
   "cell_type": "code",
   "execution_count": 23,
   "metadata": {},
   "outputs": [],
   "source": [
    "history['시군명']"
   ]
  },
  {
   "cell_type": "code",
   "execution_count": null,
   "metadata": {},
   "outputs": [],
   "source": []
  }
 ],
 "metadata": {
  "kernelspec": {
   "display_name": "Python 3",
   "language": "python",
   "name": "python3"
  },
  "language_info": {
   "codemirror_mode": {
    "name": "ipython",
    "version": 3
   },
   "file_extension": ".py",
   "mimetype": "text/x-python",
   "name": "python",
   "nbconvert_exporter": "python",
   "pygments_lexer": "ipython3",
   "version": "3.8.5"
  }
 },
 "nbformat": 4,
 "nbformat_minor": 4
}
