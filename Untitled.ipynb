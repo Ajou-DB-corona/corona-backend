{
 "cells": [
  {
   "cell_type": "code",
   "execution_count": 2,
   "metadata": {},
   "outputs": [],
   "source": [
    "import pandas as pd"
   ]
  },
  {
   "cell_type": "code",
   "execution_count": 7,
   "metadata": {},
   "outputs": [],
   "source": [
    "sumokwon = pd.read_csv('sumokwon.csv',encoding='utf-8',engine='python')\n",
    "history = pd.read_csv('history.csv',encoding='utf-8',engine='python')\n",
    "natural = pd.read_csv('natural.csv',encoding='utf-8',engine='python')\n",
    "meongso = pd.read_csv('meongso.csv',encoding='utf-8',engine='python')\n",
    "munhwa = pd.read_csv('munhwa.csv',encoding='utf-8',engine='python')\n",
    "experience = pd.read_csv('experience.csv',encoding='utf-8',engine='python')\n",
    "thema = pd.read_csv('thema.csv',encoding='utf-8',engine='python')\n",
    "forest = pd.read_csv('forest.csv',encoding='utf-8',engine='python')\n",
    "eat = pd.read_csv('eat.csv',encoding='utf-8',engine='python')\n",
    "#special = pd.read_csv('specialization.csv',encoding='utf-8',engine='python')\n",
    "#tour = pd.read_csv('tour.csv',encoding='utf-8',engine='python')\n"
   ]
  },
  {
   "cell_type": "code",
   "execution_count": 23,
   "metadata": {},
   "outputs": [
    {
     "data": {
      "text/plain": [
       "의왕시  하우현 성당        경기도 의왕시 청계동 201        031-426-8921   2021/03/05  37.395975    127.023741\n",
       "     모락산성          경기도 의왕시 내손동 산 122번지    NaN            2021/03/05  37.369200    126.976511\n",
       "     한익모 선생묘       경기도 의왕시 월암동 산 27-1     031-345-2533   2021/03/05  37.307097    126.958642\n",
       "     채세영선생묘 및 신도비  경기도 의왕시 포일동 산12        031-345-2533   2021/03/05  37.397305    126.997969\n",
       "     안자묘           경기도 의왕시 왕곡동 산 4-1번지    031-345-2533   2021/03/05  37.349913    127.007887\n",
       "                                                                                     ...    \n",
       "군포시  방짜유기 전수교육관    경기도 군포시 송부로 12         031-390-0666   2021/03/05  37.314311    126.915476\n",
       "연천군  연천급수탑         경기도 연천군 연천읍 연천로 273-7  031-839-2061   2021/03/05  38.101506    127.074184\n",
       "평택시  팽성읍객사         경기도 평택시 동서촌로 101-3     031-8024-5620  2021/03/05  36.964885    127.063287\n",
       "하남시  하남 동사지        경기도 하남시 서하남로418번길 73   031-790-5572   2021/03/05  37.518175    127.186077\n",
       "가평군  적목리 신앙유적지     경기도 가평군 북면 적목리 산1-28   031-580-2114   2021/03/05  38.002572    127.465657\n",
       "Name: 시군명, Length: 310, dtype: float64"
      ]
     },
     "execution_count": 23,
     "metadata": {},
     "output_type": "execute_result"
    }
   ],
   "source": [
    "history['시군명']"
   ]
  },
  {
   "cell_type": "code",
   "execution_count": 26,
   "metadata": {},
   "outputs": [
    {
     "data": {
      "text/plain": [
       "126.98478390000001"
      ]
     },
     "execution_count": 26,
     "metadata": {},
     "output_type": "execute_result"
    }
   ],
   "source": [
    "history['시군명']"
   ]
  },
  {
   "cell_type": "code",
   "execution_count": null,
   "metadata": {},
   "outputs": [],
   "source": []
  }
 ],
 "metadata": {
  "kernelspec": {
   "display_name": "Python 3",
   "language": "python",
   "name": "python3"
  },
  "language_info": {
   "codemirror_mode": {
    "name": "ipython",
    "version": 3
   },
   "file_extension": ".py",
   "mimetype": "text/x-python",
   "name": "python",
   "nbconvert_exporter": "python",
   "pygments_lexer": "ipython3",
   "version": "3.8.5"
  }
 },
 "nbformat": 4,
 "nbformat_minor": 4
}
